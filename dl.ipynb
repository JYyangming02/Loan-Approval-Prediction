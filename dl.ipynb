{
 "cells": [
  {
   "cell_type": "code",
   "execution_count": 1,
   "metadata": {},
   "outputs": [],
   "source": [
    "import pandas as pd\n",
    "import numpy as np\n",
    "import matplotlib.pyplot as plt\n",
    "import seaborn as sns\n",
    "\n",
    "\n",
    "from sklearn.preprocessing import OneHotEncoder\n",
    "from sklearn.preprocessing import LabelEncoder\n",
    "from imblearn.over_sampling import RandomOverSampler\n",
    "from imblearn.under_sampling import RandomUnderSampler\n",
    "from collections import Counter\n",
    "\n",
    "from sklearn.model_selection import train_test_split, cross_val_predict\n",
    "from sklearn.metrics import accuracy_score, classification_report, confusion_matrix, roc_auc_score, roc_curve\n",
    "\n",
    "from xgboost import XGBClassifier\n",
    "from catboost import CatBoostClassifier\n",
    "from lightgbm import LGBMClassifier\n",
    "\n",
    "import torch\n",
    "import torch.nn as nn\n",
    "import torch.optim as optim\n",
    "from torch.utils.data import DataLoader, TensorDataset\n",
    "from torch.optim.lr_scheduler import ReduceLROnPlateau"
   ]
  },
  {
   "cell_type": "code",
   "execution_count": 2,
   "metadata": {},
   "outputs": [
    {
     "name": "stdout",
     "output_type": "stream",
     "text": [
      "<class 'pandas.core.frame.DataFrame'>\n",
      "RangeIndex: 58645 entries, 0 to 58644\n",
      "Data columns (total 13 columns):\n",
      " #   Column                      Non-Null Count  Dtype  \n",
      "---  ------                      --------------  -----  \n",
      " 0   id                          58645 non-null  int64  \n",
      " 1   person_age                  58645 non-null  int64  \n",
      " 2   person_income               58645 non-null  int64  \n",
      " 3   person_home_ownership       58645 non-null  object \n",
      " 4   person_emp_length           58645 non-null  float64\n",
      " 5   loan_intent                 58645 non-null  object \n",
      " 6   loan_grade                  58645 non-null  object \n",
      " 7   loan_amnt                   58645 non-null  int64  \n",
      " 8   loan_int_rate               58645 non-null  float64\n",
      " 9   loan_percent_income         58645 non-null  float64\n",
      " 10  cb_person_default_on_file   58645 non-null  object \n",
      " 11  cb_person_cred_hist_length  58645 non-null  int64  \n",
      " 12  loan_status                 58645 non-null  int64  \n",
      "dtypes: float64(3), int64(6), object(4)\n",
      "memory usage: 5.8+ MB\n"
     ]
    }
   ],
   "source": [
    "train_df = pd.read_csv('./data/train.csv')\n",
    "test_df = pd.read_csv('./data/test.csv')\n",
    "train_df.info()"
   ]
  },
  {
   "cell_type": "markdown",
   "metadata": {},
   "source": [
    "# Process Categorical Variable\n",
    "- one-hot encoding\n",
    "- lable encoding"
   ]
  },
  {
   "cell_type": "code",
   "execution_count": 4,
   "metadata": {},
   "outputs": [],
   "source": [
    "train_df_target = train_df[\"loan_status\"]\n",
    "train_df_features = train_df.drop([\"loan_status\", \"id\"], axis=1)\n",
    "\n",
    "test_df_features = test_df.drop([\"id\"], axis=1)"
   ]
  },
  {
   "cell_type": "code",
   "execution_count": 5,
   "metadata": {},
   "outputs": [],
   "source": [
    "class LoanFeatureEncoder:\n",
    "    def __init__(self, dataframe):\n",
    "        self.df = dataframe\n",
    "        self.oh_encoder = OneHotEncoder(sparse_output=False)\n",
    "        self.label_encoder = LabelEncoder()\n",
    "        self.encoded_features = None\n",
    "\n",
    "    def encode_features(self, oh_features, grade_ordering, default_ordering):\n",
    "        # one-hot encode the categorical features\n",
    "        features_encoded = self.oh_encoder.fit_transform(self.df[oh_features])\n",
    "        encoded_df = pd.DataFrame(features_encoded, columns=self.oh_encoder.get_feature_names_out(oh_features))\n",
    "\n",
    "        self.df.drop(oh_features, axis=1, inplace=True)\n",
    "        self.df = pd.concat([self.df, encoded_df], axis=1)\n",
    "\n",
    "        # label encode the ordinal features\n",
    "        self.df[\"loan_grade\"] = pd.Categorical(self.df[\"loan_grade\"], categories=grade_ordering, ordered=True)\n",
    "        self.df[\"loan_grade\"] = self.label_encoder.fit_transform(self.df[\"loan_grade\"])\n",
    "\n",
    "        self.df[\"cb_person_default_on_file\"] = pd.Categorical(self.df[\"cb_person_default_on_file\"], categories=default_ordering, ordered=True)\n",
    "        self.df[\"cb_person_default_on_file\"] = self.label_encoder.fit_transform(self.df[\"cb_person_default_on_file\"])\n",
    "\n",
    "        self.encoded_features = self.df\n",
    "        return self.encoded_features\n",
    "\n"
   ]
  },
  {
   "cell_type": "code",
   "execution_count": 6,
   "metadata": {},
   "outputs": [],
   "source": [
    "oh_features = [\"person_home_ownership\", \"loan_intent\"]\n",
    "grade_ordering = ['A', 'B', 'C', 'D', 'E', 'F', 'G']\n",
    "default_ordering = ['N', 'Y']"
   ]
  },
  {
   "cell_type": "code",
   "execution_count": 7,
   "metadata": {},
   "outputs": [],
   "source": [
    "train_encoder = LoanFeatureEncoder(train_df_features)\n",
    "train_encoded_df_feature = train_encoder.encode_features(oh_features, grade_ordering, default_ordering)\n",
    "\n",
    "test_encoder = LoanFeatureEncoder(test_df_features)\n",
    "test_encoded_df_feature = test_encoder.encode_features(oh_features, grade_ordering, default_ordering)"
   ]
  },
  {
   "cell_type": "markdown",
   "metadata": {},
   "source": [
    "# Model Training"
   ]
  },
  {
   "cell_type": "code",
   "execution_count": 8,
   "metadata": {},
   "outputs": [],
   "source": [
    "feature_train, feature_test, target_train, target_test = train_test_split(train_encoded_df_feature, train_df_target, \n",
    "                                                                          test_size=0.2, random_state=42)\n"
   ]
  },
  {
   "cell_type": "code",
   "execution_count": 9,
   "metadata": {},
   "outputs": [
    {
     "name": "stdout",
     "output_type": "stream",
     "text": [
      "oversampler: Counter({0: 17760, 1: 17760})\n",
      "undersampler: Counter({0: 17760, 1: 17760})\n"
     ]
    }
   ],
   "source": [
    "# RandomOverSampler\n",
    "oversampler = RandomOverSampler(sampling_strategy=0.505, random_state=42)\n",
    "feature_train, target_train = oversampler.fit_resample(feature_train, target_train)\n",
    "\n",
    "# RandomUnderSampler\n",
    "undersampler = RandomUnderSampler(sampling_strategy=1.0, random_state=42)\n",
    "feature_train, target_train = undersampler.fit_resample(feature_train, target_train)\n",
    "\n",
    "print(\"oversampler:\", Counter(target_train))\n",
    "\n",
    "print(\"undersampler:\", Counter(target_train))"
   ]
  },
  {
   "cell_type": "markdown",
   "metadata": {},
   "source": [
    "# Stack Model"
   ]
  },
  {
   "cell_type": "code",
   "execution_count": 10,
   "metadata": {},
   "outputs": [],
   "source": [
    "# LightGBM\n",
    "lgbm_params = {\n",
    "    'objective': 'binary',\n",
    "    'n_estimators': 800,\n",
    "    'learning_rate': 0.1,\n",
    "    'max_depth': 8,\n",
    "    'subsample': 0.8,\n",
    "    'colsample_bytree': 0.8,\n",
    "    'random_state': 42,\n",
    "    \"verbose\": -1\n",
    "}\n",
    "\n",
    "LGB_model = LGBMClassifier(**lgbm_params)\n",
    "LGB_model.fit(feature_train, target_train)\n",
    "lgb_pred_train = cross_val_predict(LGB_model, feature_train, target_train, cv=10, method='predict_proba')[:, 1]\n",
    "\n",
    "# XGBoost\n",
    "xgb_param = {\n",
    "    'objective': 'binary:logistic',\n",
    "    'eval_metric': 'auc',\n",
    "    'n_estimators': 500,\n",
    "    'learning_rate': 0.1,\n",
    "    'max_depth': 8,\n",
    "    'subsample': 0.8,\n",
    "    'colsample_bytree': 0.8,\n",
    "    'random_state': 42,\n",
    "    'eval_metric': 'auc',\n",
    "    'enable_categorical': True\n",
    "}\n",
    "\n",
    "XGB_model = XGBClassifier(**xgb_param)\n",
    "XGB_model.fit(feature_train, target_train)\n",
    "xgb_pred_train = cross_val_predict(XGB_model, feature_train, target_train, cv=10, method='predict_proba')[:, 1]\n",
    "\n",
    "# CatBoost\n",
    "cat_params = {\n",
    "    'loss_function': 'Logloss',\n",
    "    'eval_metric': 'AUC',\n",
    "    'learning_rate': 0.1,\n",
    "    'iterations': 500,\n",
    "    'depth': 8,\n",
    "    'l2_leaf_reg': 10,\n",
    "    'random_strength': 1,\n",
    "    'random_seed': 42,\n",
    "    'verbose': False,\n",
    "    'early_stopping_rounds': 10,\n",
    "}\n",
    "\n",
    "CAT_model = CatBoostClassifier(**cat_params)\n",
    "CAT_model.fit(feature_train, target_train)\n",
    "cat_pred_train = cross_val_predict(CAT_model, feature_train, target_train, cv=10, method='predict_proba')[:, 1]"
   ]
  },
  {
   "cell_type": "code",
   "execution_count": 11,
   "metadata": {},
   "outputs": [],
   "source": [
    "# stack the trian data\n",
    "stacked_train = np.column_stack((lgb_pred_train, cat_pred_train, xgb_pred_train))\n",
    "\n",
    "# stack the valid data\n",
    "lgb_pred_test = LGB_model.predict_proba(feature_test)[:, 1]\n",
    "xgb_pred_test = XGB_model.predict_proba(feature_test)[:, 1]\n",
    "cat_pred_test = CAT_model.predict_proba(feature_test)[:, 1]\n",
    "\n",
    "stacked_test = np.column_stack((lgb_pred_test, cat_pred_test, xgb_pred_test))"
   ]
  },
  {
   "cell_type": "code",
   "execution_count": 12,
   "metadata": {},
   "outputs": [],
   "source": [
    "# Meta model by using ANN\n",
    "class MetaModel(nn.Module):\n",
    "    def __init__(self, input_size):\n",
    "        super(MetaModel, self).__init__()\n",
    "        self.fc1 = nn.Linear(input_size, 64)\n",
    "        self.fc2 = nn.Linear(64, 32)\n",
    "        self.fc3 = nn.Linear(32, 1)\n",
    "        self.relu = nn.ReLU()\n",
    "        self.sigmoid = nn.Sigmoid()\n",
    "        self.dropout = nn.Dropout(0.2)\n",
    "\n",
    "    def forward(self, x):\n",
    "        x = self.relu(self.fc1(x))\n",
    "        x = self.dropout(x)\n",
    "        x = self.relu(self.fc2(x))\n",
    "        x = self.dropout(x)\n",
    "        x = self.sigmoid(self.fc3(x))\n",
    "        return x"
   ]
  },
  {
   "cell_type": "code",
   "execution_count": 13,
   "metadata": {},
   "outputs": [
    {
     "name": "stdout",
     "output_type": "stream",
     "text": [
      "cuda\n"
     ]
    },
    {
     "name": "stderr",
     "output_type": "stream",
     "text": [
      "c:\\Users\\jimmy\\anaconda3\\envs\\analysis\\lib\\site-packages\\torch\\optim\\lr_scheduler.py:60: UserWarning: The verbose parameter is deprecated. Please use get_last_lr() to access the learning rate.\n",
      "  warnings.warn(\n"
     ]
    },
    {
     "name": "stdout",
     "output_type": "stream",
     "text": [
      "Epoch: 1, Train Loss: 0.14, Val Loss: 0.19, Val Accuracy: 93.92%\n",
      "Epoch: 2, Train Loss: 0.11, Val Loss: 0.18, Val Accuracy: 94.21%\n",
      "Epoch: 3, Train Loss: 0.10, Val Loss: 0.19, Val Accuracy: 93.99%\n",
      "Epoch: 4, Train Loss: 0.10, Val Loss: 0.18, Val Accuracy: 94.31%\n",
      "Epoch: 5, Train Loss: 0.10, Val Loss: 0.18, Val Accuracy: 94.07%\n",
      "Final Accuracy: 97.19%\n"
     ]
    }
   ],
   "source": [
    "device = torch.device(\"cuda\" if torch.cuda.is_available() else \"cpu\")\n",
    "print(device)\n",
    "\n",
    "stacked_train_tensor = torch.tensor(stacked_train, dtype=torch.float32).to(device)\n",
    "target_train_tensor = torch.tensor(target_train.values, dtype=torch.float32).view(-1, 1).to(device)\n",
    "stacked_test_tensor = torch.tensor(stacked_test, dtype=torch.float32).to(device)\n",
    "target_test_tensor = torch.tensor(target_test.values, dtype=torch.float32).view(-1, 1).to(device)\n",
    "\n",
    "train_loader = DataLoader(TensorDataset(stacked_train_tensor, target_train_tensor), batch_size=32, shuffle=True)\n",
    "val_loader = DataLoader(TensorDataset(stacked_test_tensor, target_test_tensor), batch_size=32, shuffle=False)\n",
    "\n",
    "input_size = stacked_train.shape[1]\n",
    "model = MetaModel(input_size).to(device)\n",
    "\n",
    "criterion = nn.BCELoss()\n",
    "optimizer = optim.Adam(model.parameters(), lr=1e-3, weight_decay=1e-2)\n",
    "scheduler = ReduceLROnPlateau(optimizer, mode='min', factor=0.5, patience=3, verbose=True)\n",
    "\n",
    "train_losses = []\n",
    "val_losses = []\n",
    "epochs = 5\n",
    "\n",
    "for epoch in range(epochs):\n",
    "    model.train()\n",
    "    running_loss = 0\n",
    "    for features, target in train_loader:\n",
    "        optimizer.zero_grad()\n",
    "        \n",
    "        # Forward pass\n",
    "        output = model(features)\n",
    "        loss = criterion(output, target)\n",
    "\n",
    "        # Backward pass\n",
    "        loss.backward()\n",
    "        optimizer.step()\n",
    "\n",
    "        running_loss += loss.item()\n",
    "    \n",
    "    train_losses.append(running_loss / len(train_loader))\n",
    "    \n",
    "    # Validation\n",
    "    model.eval()\n",
    "    val_loss = 0\n",
    "    correct = 0\n",
    "    total = 0\n",
    "    with torch.no_grad():\n",
    "        for features, target in val_loader:\n",
    "            output = model(features)\n",
    "            val_loss += criterion(output, target).item()\n",
    "            \n",
    "            pred = (output > 0.5).float()\n",
    "            total += target.size(0)\n",
    "            correct += (pred == target).sum().item()\n",
    "    \n",
    "    val_loss /= len(val_loader)\n",
    "    val_accuracy = correct / total\n",
    "    val_losses.append(val_loss)\n",
    "    \n",
    "    scheduler.step(val_loss)\n",
    "\n",
    "    print(f\"Epoch: {epoch+1}, Train Loss: {train_losses[-1]:.2f}, Val Loss: {val_loss:.2f}, Val Accuracy: {val_accuracy * 100:.2f}%\")\n",
    "\n",
    "model.eval()\n",
    "with torch.no_grad():\n",
    "    output = model(torch.tensor(stacked_train, dtype=torch.float32).to(device))\n",
    "    predicted = (output >= 0.5).float()\n",
    "    accuracy = (predicted.view(-1) == torch.tensor(target_train.values, dtype=torch.float32).view(-1).to(device)).sum().item() / len(target_train)\n",
    "\n",
    "print(f\"Final Accuracy: {accuracy * 100:.2f}%\")"
   ]
  },
  {
   "cell_type": "markdown",
   "metadata": {},
   "source": [
    "# Evaluate Model"
   ]
  },
  {
   "cell_type": "code",
   "execution_count": 14,
   "metadata": {},
   "outputs": [],
   "source": [
    "class ModelEvaluator:\n",
    "    def __init__(self, model, feature_test, target_test):\n",
    "        self.model = model\n",
    "        self.feature_test = feature_test\n",
    "        self.target_test = target_test\n",
    "        self.predictions = None\n",
    "        self.target_prob = None\n",
    "\n",
    "    def evaluate(self):\n",
    "        self.model.eval()\n",
    "        with torch.no_grad():\n",
    "            features_tensor = torch.tensor(self.feature_test, dtype=torch.float32).to(device)\n",
    "            output = self.model(features_tensor)\n",
    "\n",
    "            self.predictions = (output > 0.5).float().cpu().numpy()\n",
    "            self.target_prob = output.cpu().numpy().flatten()\n",
    "\n",
    "        accuracy = accuracy_score(self.target_test, self.predictions)\n",
    "        \n",
    "        print(\"Accuracy:\", accuracy)\n",
    "        print(classification_report(self.target_test, self.predictions))\n",
    "        print(confusion_matrix(self.target_test, self.predictions))\n",
    "\n",
    "    def plot_roc_curve(self):\n",
    "        fpr, tpr, _ = roc_curve(self.target_test, self.target_prob)\n",
    "        roc_auc = roc_auc_score(self.target_test, self.target_prob)\n",
    "        plt.figure()\n",
    "        plt.plot(fpr, tpr, color='darkorange', lw=2, label='ROC curve (area = %0.2f)' % roc_auc)\n",
    "        plt.plot([0, 1], [0, 1], color='navy', lw=2, linestyle='--')\n",
    "        plt.xlim([0.0, 1.0])\n",
    "        plt.ylim([0.0, 1.05])\n",
    "        plt.xlabel('False Positive Rate')\n",
    "        plt.ylabel('True Positive Rate')\n",
    "        plt.title('ROC Curve')\n",
    "        plt.legend(loc=\"lower right\")\n",
    "        plt.show()\n",
    "\n",
    "    def plot_confusion_matrix(self):\n",
    "        cm = confusion_matrix(self.target_test, self.predictions)\n",
    "        sns.heatmap(cm, annot=True, fmt='d', cmap='Blues')\n",
    "        plt.xlabel('Predicted')\n",
    "        plt.ylabel('Actual')\n",
    "        plt.show()"
   ]
  },
  {
   "cell_type": "code",
   "execution_count": 15,
   "metadata": {},
   "outputs": [
    {
     "name": "stdout",
     "output_type": "stream",
     "text": [
      "Accuracy: 0.9407184267363874\n",
      "              precision    recall  f1-score   support\n",
      "\n",
      "           0       0.97      0.96      0.97     15126\n",
      "           1       0.78      0.80      0.79      2468\n",
      "\n",
      "    accuracy                           0.94     17594\n",
      "   macro avg       0.87      0.88      0.88     17594\n",
      "weighted avg       0.94      0.94      0.94     17594\n",
      "\n",
      "[[14574   552]\n",
      " [  491  1977]]\n"
     ]
    },
    {
     "data": {
      "image/png": "[encoded data removed]",
      "text/plain": [
       "<Figure size 640x480 with 1 Axes>"
      ]
     },
     "metadata": {},
     "output_type": "display_data"
    },
    {
     "data": {
      "image/png": "[encoded data removed]",
      "text/plain": [
       "<Figure size 640x480 with 2 Axes>"
      ]
     },
     "metadata": {},
     "output_type": "display_data"
    }
   ],
   "source": [
    "train_evaluator = ModelEvaluator(model, stacked_test, target_test)\n",
    "train_evaluator.evaluate()\n",
    "train_evaluator.plot_roc_curve()\n",
    "train_evaluator.plot_confusion_matrix()"
   ]
  },
  {
   "cell_type": "markdown",
   "metadata": {},
   "source": [
    "# Prediction"
   ]
  },
  {
   "cell_type": "code",
   "execution_count": 16,
   "metadata": {},
   "outputs": [],
   "source": [
    "# stack the test data\n",
    "rf_pred_test = LGB_model.predict_proba(test_encoded_df_feature)[:, 1]\n",
    "xgb_pred_test = XGB_model.predict_proba(test_encoded_df_feature)[:, 1]\n",
    "cat_pred_test = CAT_model.predict_proba(test_encoded_df_feature)[:, 1]\n",
    "\n",
    "stacked_test_data = np.column_stack((rf_pred_test, cat_pred_test, xgb_pred_test))\n",
    "stacked_test_data_tensor = torch.tensor(stacked_test_data, dtype=torch.float32).to(device)"
   ]
  },
  {
   "cell_type": "code",
   "execution_count": 17,
   "metadata": {},
   "outputs": [],
   "source": [
    "model.eval()\n",
    "with torch.no_grad():\n",
    "    output = model(stacked_test_data_tensor)\n",
    "    test_pred = (output > 0.5).float().cpu().numpy()\n",
    "\n",
    "test_df[\"loan_status\"] = test_pred\n",
    "test_df.to_csv('./output/ann_predictions.csv', columns=[\"id\", \"loan_status\"], index=False)\n"
   ]
  }
 ],
 "metadata": {
  "kernelspec": {
   "display_name": "analysis",
   "language": "python",
   "name": "python3"
  },
  "language_info": {
   "codemirror_mode": {
    "name": "ipython",
    "version": 3
   },
   "file_extension": ".py",
   "mimetype": "text/x-python",
   "name": "python",
   "nbconvert_exporter": "python",
   "pygments_lexer": "ipython3",
   "version": "3.10.15"
  }
 },
 "nbformat": 4,
 "nbformat_minor": 2
}
